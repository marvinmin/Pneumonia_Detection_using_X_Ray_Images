{
 "cells": [
  {
   "cell_type": "markdown",
   "metadata": {},
   "source": [
    "# Pneumonia Detection using X-Ray Images"
   ]
  },
  {
   "cell_type": "markdown",
   "metadata": {},
   "source": [
    "This project aims to practice using CNN to process images and detect pneumonia based on the X-Ray images. Given the current COVID-19 pandemic, this project is both meaningful and interesting. Along with physical examination, imaging diagnosis plays a central role in the detection of pneumonia. In the chest X-Ray images, opacity areas are often correlated to pneumonia affected regions. However, the identification of opacity areas in chest X-Ray images is sometimes challenging. Machine learning and artificial intelligence can be used to detect pneumonia based on chest X-Ray images."
   ]
  },
  {
   "cell_type": "code",
   "execution_count": null,
   "metadata": {},
   "outputs": [],
   "source": []
  }
 ],
 "metadata": {
  "kernelspec": {
   "display_name": "Python 3",
   "language": "python",
   "name": "python3"
  },
  "language_info": {
   "codemirror_mode": {
    "name": "ipython",
    "version": 3
   },
   "file_extension": ".py",
   "mimetype": "text/x-python",
   "name": "python",
   "nbconvert_exporter": "python",
   "pygments_lexer": "ipython3",
   "version": "3.7.6"
  }
 },
 "nbformat": 4,
 "nbformat_minor": 4
}
